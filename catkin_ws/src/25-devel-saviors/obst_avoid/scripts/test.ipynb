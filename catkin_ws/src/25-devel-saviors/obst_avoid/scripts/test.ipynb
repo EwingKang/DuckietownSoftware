{
 "cells": [
  {
   "cell_type": "code",
   "execution_count": 7,
   "metadata": {},
   "outputs": [
    {
     "name": "stdout",
     "output_type": "stream",
     "text": [
      "(0,)\n",
      "(2, 1)\n",
      "(2, 2)\n",
      "(2, 3)\n",
      "(2, 4)\n",
      "(2, 5)\n",
      "(2, 6)\n",
      "(2, 7)\n",
      "(2, 8)\n",
      "(2, 9)\n",
      "(2, 10)\n",
      "[[1 1 1 1 1 1 1 1 1 1 1]\n",
      " [2 2 2 2 2 2 2 2 2 2 2]]\n"
     ]
    }
   ],
   "source": [
    "import numpy as np\n",
    "import scipy\n",
    "\n",
    "new_track_array = np.array([])\n",
    "dummy = True\n",
    "for k in range (1,12):\n",
    "        print new_track_array.shape\n",
    "        new_position = np.array([[1],[2]])\n",
    "        if dummy:\n",
    "                new_track_array = new_position\n",
    "                dummy = False\n",
    "        else: \n",
    "                new_track_array = np.append(new_track_array,new_position,axis=1)\n",
    "print new_track_array"
   ]
  },
  {
   "cell_type": "code",
   "execution_count": 20,
   "metadata": {},
   "outputs": [
    {
     "name": "stdout",
     "output_type": "stream",
     "text": [
      "[[0 1 2]\n",
      " [1 2 3]]\n",
      "[ 1.          2.23606798  3.60555128]\n",
      "1.0\n",
      "3\n"
     ]
    }
   ],
   "source": [
    "from numpy import linalg as LA\n",
    "a = np.array([[1,2,3],[2,3,4]])\n",
    "b = np.array([[1],[1]])\n",
    "#a = np.array([])\n",
    "if a.size != 0:\n",
    "    c = a-b\n",
    "    d = LA.norm(c, axis=0)\n",
    "    print c\n",
    "#d = np.array([])\n",
    "print d\n",
    "if d.size != 0:\n",
    "    e = np.amin(d)\n",
    "    print e\n",
    "print a[1,1]\n"
   ]
  }
 ],
 "metadata": {
  "kernelspec": {
   "display_name": "Python 2",
   "language": "python",
   "name": "python2"
  },
  "language_info": {
   "codemirror_mode": {
    "name": "ipython",
    "version": 2
   },
   "file_extension": ".py",
   "mimetype": "text/x-python",
   "name": "python",
   "nbconvert_exporter": "python",
   "pygments_lexer": "ipython2",
   "version": "2.7.12"
  }
 },
 "nbformat": 4,
 "nbformat_minor": 2
}
